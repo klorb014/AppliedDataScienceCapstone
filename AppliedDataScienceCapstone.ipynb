{
 "cells": [
  {
   "cell_type": "markdown",
   "metadata": {},
   "source": [
    "# Capstone Project - Vechile Collision Severity Case Study\n",
    "### Applied Data Science Capstone by IBM/Coursera\n",
    "\n"
   ]
  },
  {
   "cell_type": "markdown",
   "metadata": {},
   "source": [
    "## Table of contents\n",
    "* [Business Understanding](#business)\n",
    "* [Data](#data)\n",
    "* [Methodology](#methodology)\n",
    "* [Results and Discussion](#results)\n",
    "* [Conclusion](#conclusion)"
   ]
  },
  {
   "cell_type": "markdown",
   "metadata": {},
   "source": [
    "## Business Understanding:\n",
    "\n",
    "The purpose of this case study is to create a model that that can predict the potential severity of a vehicle collision based on weather and road conditions. The goal of such a model would be to evaluate the current driving condition, so that drivers can be warned to drive more carefully.\n",
    "\n"
   ]
  },
  {
   "cell_type": "markdown",
   "metadata": {},
   "source": [
    "## Data Understanding:\n",
    "\n",
    "To perform this analysis, the Seattle Collision dataset will be used. The location and vehicle specific information will be ignored for the purposes of this use case. This is because the goal is determine driving conditions based on weather and road conditions data, not individual driver behaviour or specific problematic intersections. As a result, the date, road condition, weather, and light condition will be used as input features.  To remove possible driver error as a collision factor, data points where the driver was speeding, intoxicated, or inattentive will be removed.   Finally, the collision date will be kept and used for modelling. The purpose of keeping temporal data is to capture any seasonality which may be present in the data.  "
   ]
  },
  {
   "cell_type": "code",
   "execution_count": 26,
   "metadata": {},
   "outputs": [],
   "source": [
    "import pandas as pd\n",
    "import numpy as np\n",
    "import re\n",
    "import matplotlib.pyplot as plt\n",
    "from sklearn.preprocessing import OneHotEncoder\n",
    "from sklearn.compose import ColumnTransformer \n",
    "from sklearn.preprocessing import LabelEncoder\n",
    "from sklearn.model_selection import train_test_split\n",
    "from sklearn.utils import resample\n",
    "from sklearn.metrics import f1_score\n",
    "from sklearn.metrics import jaccard_score\n",
    "from sklearn.metrics import confusion_matrix\n",
    "from sklearn.metrics import plot_roc_curve\n",
    "\n",
    "from sklearn.neural_network import MLPClassifier\n",
    "from sklearn.neighbors import KNeighborsClassifier\n",
    "from sklearn.svm import SVC\n",
    "from sklearn.gaussian_process import GaussianProcessClassifier\n",
    "from sklearn.gaussian_process.kernels import RBF\n",
    "from sklearn.tree import DecisionTreeClassifier\n",
    "from sklearn.ensemble import RandomForestClassifier, AdaBoostClassifier\n",
    "from sklearn.naive_bayes import GaussianNB\n",
    "from sklearn.discriminant_analysis import QuadraticDiscriminantAnalysis\n",
    "import wandb"
   ]
  },
  {
   "cell_type": "markdown",
   "metadata": {},
   "source": [
    "## Methodology\n",
    "\n",
    "### Data Preparation:\n",
    "\n",
    "To prepare the data for modeling, the dataset will be read into a pandas dataframe. Then, the attributes that were deemed unnecessary will be dropped from the dataframe. The categorical data (weather, road condition, and lighting condition) will be encoded. To address unknown lighting condition data points, the lighting condition will be approximated using the time of day that the collision. Then, the lighting condition will be aggregated into \"Daylight\", \"Medium\", and \"Night\". Moreover, missing data will be addressed by dropping the related rows. Finally, the \"SeverityCode\" labels will be resampled so that there is an equal number of \"1\" and \"2\" labels.\n"
   ]
  },
  {
   "cell_type": "code",
   "execution_count": 27,
   "metadata": {},
   "outputs": [
    {
     "name": "stdout",
     "output_type": "stream",
     "text": [
      "Hello Capstone Project Course!\n"
     ]
    }
   ],
   "source": [
    "print(\"Hello Capstone Project Course!\")"
   ]
  },
  {
   "cell_type": "code",
   "execution_count": 28,
   "metadata": {},
   "outputs": [],
   "source": [
    "def add_datepart(df, fldname, drop=True):\n",
    "    fld = df[fldname]\n",
    "    if not np.issubdtype(fld.dtype, np.datetime64):\n",
    "        df[fldname] = fld = pd.to_datetime(fld,infer_datetime_format=True)\n",
    "        targ_pre = re.sub('[Dd]ate$', '', fldname)\n",
    "    for n in ('Year', 'Month', 'Week', 'Day', 'Dayofweek', 'Dayofyear', 'Is_month_end', 'Is_month_start', 'Is_quarter_end', 'Is_quarter_start', 'Is_year_end', 'Is_year_start'):\n",
    "        df[targ_pre+n] = getattr(fld.dt,n.lower())\n",
    "\n",
    "    df[targ_pre+'Elapsed'] = fld.astype(np.int64) // 10**9\n",
    "    if drop: df.drop(fldname, axis=1, inplace=True)\n",
    "\n"
   ]
  },
  {
   "cell_type": "code",
   "execution_count": 29,
   "metadata": {},
   "outputs": [
    {
     "name": "stderr",
     "output_type": "stream",
     "text": [
      "/usr/local/lib/python3.7/site-packages/IPython/core/interactiveshell.py:3146: DtypeWarning: Columns (33) have mixed types.Specify dtype option on import or set low_memory=False.\n",
      "  interactivity=interactivity, compiler=compiler, result=result)\n",
      "/usr/local/lib/python3.7/site-packages/ipykernel_launcher.py:21: SettingWithCopyWarning: \n",
      "A value is trying to be set on a copy of a slice from a DataFrame.\n",
      "Try using .loc[row_indexer,col_indexer] = value instead\n",
      "\n",
      "See the caveats in the documentation: https://pandas.pydata.org/pandas-docs/stable/user_guide/indexing.html#returning-a-view-versus-a-copy\n",
      "/usr/local/lib/python3.7/site-packages/ipykernel_launcher.py:22: SettingWithCopyWarning: \n",
      "A value is trying to be set on a copy of a slice from a DataFrame.\n",
      "Try using .loc[row_indexer,col_indexer] = value instead\n",
      "\n",
      "See the caveats in the documentation: https://pandas.pydata.org/pandas-docs/stable/user_guide/indexing.html#returning-a-view-versus-a-copy\n",
      "/usr/local/lib/python3.7/site-packages/ipykernel_launcher.py:7: FutureWarning: Series.dt.weekofyear and Series.dt.week have been deprecated.  Please use Series.dt.isocalendar().week instead.\n",
      "  import sys\n"
     ]
    }
   ],
   "source": [
    "df = pd.read_csv('https://s3.us.cloud-object-storage.appdomain.cloud/cf-courses-data/CognitiveClass/DP0701EN/version-2/Data-Collisions.csv')\n",
    "df.head()\n",
    "df = df.drop([ 'SEVERITYCODE.1', 'SEVERITYDESC' ,'X', 'Y', 'OBJECTID', 'INCKEY', 'COLDETKEY', 'REPORTNO','STATUS', 'ADDRTYPE', 'INTKEY', 'LOCATION', 'EXCEPTRSNCODE','EXCEPTRSNDESC','PERSONCOUNT', 'PEDCOUNT', 'PEDCYLCOUNT','VEHCOUNT', 'JUNCTIONTYPE', 'SDOT_COLCODE', 'SDOT_COLDESC','PEDROWNOTGRNT', 'SDOTCOLNUM', 'ST_COLCODE', 'ST_COLDESC','SEGLANEKEY', 'CROSSWALKKEY', 'HITPARKEDCAR'], axis=1)\n",
    "df = df[df['INATTENTIONIND'] != 'Y'].drop(['INATTENTIONIND'], axis=1)\n",
    "df = df[df['UNDERINFL'] != 'Y']\n",
    "df = df[df['UNDERINFL'] != '1'].drop(['UNDERINFL'], axis=1)\n",
    "df = df[df['SPEEDING'] != 'Y'].drop(['SPEEDING'], axis=1)\n",
    "df['LIGHTCOND'] = df['LIGHTCOND'].astype('str')\n",
    "\n",
    "\n",
    "\n",
    "df['INCDTTM'] = df['INCDTTM'].astype('datetime64[ns]')\n",
    "df['INCDATE'] = df['INCDATE'].astype('datetime64[ns]')\n",
    "\n",
    "df['INCDTTM'] = df['INCDTTM'].dt.time\n",
    "df['INCDATE'] = df['INCDATE'].dt.date\n",
    "\n",
    "b = [0,7,21,24]\n",
    "l = ['Night','Daylight','Night1']\n",
    "df2 = df[df['LIGHTCOND'] == 'Unknown']\n",
    "df2['INCDTTM'] = df2['INCDTTM'].apply(lambda x: x.hour)\n",
    "df2['LIGHTCOND'] = pd.cut(df2['INCDTTM'], bins=b, labels=l, include_lowest=True)\n",
    "\n",
    "df = df[df['LIGHTCOND'] != 'Unknown']\n",
    "\n",
    "df = pd.concat([df, df2])\n",
    "df['LIGHTCOND'].value_counts()\n",
    "\n",
    "mapping = {'Dark1':'Dark', 'Night':'Dark', 'Other':'Dark', 'Dawn':'Medium', 'Dusk':'Medium', 'Dark - Street Lights On':'Medium' , 'Daylight':'Daylight', 'Dark':'Dark', 'Dark - No Street Lights': 'Dark', 'Dark - Street Lights Off':'Dark', 'Dark - Unknown Lighting':'Dark' }\n",
    "\n",
    "copy = df.copy()\n",
    "\n",
    "copy['LIGHTCOND'] = copy['LIGHTCOND'].map(mapping)\n",
    "copy = copy.dropna()\n",
    "\n",
    "labelencoder = LabelEncoder()\n",
    "copy['LIGHTCOND_Cat'] = labelencoder.fit_transform(copy['LIGHTCOND'])\n",
    "copy['ROADCOND_Cat'] = labelencoder.fit_transform(copy['ROADCOND'])\n",
    "copy['WEATHER'] = labelencoder.fit_transform(copy['WEATHER'])\n",
    "\n",
    "add_datepart(copy, 'INCDATE')\n",
    "copy = copy.drop(['COLLISIONTYPE', 'INCDTTM', 'ROADCOND', 'LIGHTCOND', 'INCDATEElapsed'], axis =1)"
   ]
  },
  {
   "cell_type": "code",
   "execution_count": 32,
   "metadata": {},
   "outputs": [],
   "source": [
    "copy_majority = copy[copy['SEVERITYCODE']==1]\n",
    "copy_minority = copy[copy['SEVERITYCODE']==2]\n",
    "\n",
    "copy_majority_downsampled = resample(copy_majority, replace=False,n_samples=40788,random_state=123)\n",
    "\n",
    "copy_downsampled = pd.concat([copy_majority_downsampled, copy_minority])\n",
    "\n",
    "\n",
    "\n",
    "labels = copy_downsampled['SEVERITYCODE']\n",
    "labels = np.array(labels)\n",
    "\n",
    "features = copy_downsampled.drop(['SEVERITYCODE'], axis = 1)\n",
    "feature_list = list(features.columns)\n",
    "features = np.array(features)\n",
    "\n",
    "X_train, X_test, y_train, y_test = train_test_split(features, labels, test_size=0.2, random_state=1)\n",
    "\n",
    "X_train, X_val, y_train, y_val = train_test_split(X_train, y_train, test_size=0.25, random_state=1) "
   ]
  },
  {
   "cell_type": "markdown",
   "metadata": {},
   "source": [
    "### Modeling:\n",
    "\n",
    "To perform the modeling, an array of different algorithms have been selected:\n",
    "\n",
    "- MLPClassifier\n",
    "- KNeighborsClassifier\n",
    "- GaussianProcessClassifier\n",
    "- DecisionTreeClassifier\n",
    "- RandomForestClassifier\n",
    "- AdaBoostClassifier\n",
    "- GaussianNB\n",
    "- QuadraticDiscriminantAnalysis\n",
    "\n",
    "All of the chosen models will follow a supervised learning regime where they will trained and then tested with labelled data."
   ]
  },
  {
   "cell_type": "code",
   "execution_count": 42,
   "metadata": {},
   "outputs": [
    {
     "name": "stdout",
     "output_type": "stream",
     "text": [
      "MODEL TRAINING\n",
      "==== MLP Classifier Training ====\n",
      "Training Finished In: 6.7432897090911865\n",
      "==== KNN Classifier Training ====\n",
      "Training Finished In: 1.6640210151672363\n",
      "==== Decision Tree Classifier Training ====\n",
      "Training Finished In: 0.319627046585083\n",
      "Random Forest Classifier Training ====\n",
      "Training Finished In: 1.2689018249511719\n",
      "==== Gaussian Naive Bays Training ====\n",
      "Training Finished In: 0.09110593795776367\n",
      "==== Quadratic Discriminant Analysis Training ====\n",
      "Training Finished In: 0.09908890724182129\n",
      "==== SVC Training ====\n",
      "Training Finished In: 256.2159032821655\n",
      "==== AdaBoost Classifier Training ====\n",
      "Training Finished In: 10.12096905708313\n"
     ]
    }
   ],
   "source": [
    "import time\n",
    "print(\"MODEL TRAINING\")\n",
    "\n",
    "print(\"==== MLP Classifier Training ====\")\n",
    "start = time.time()\n",
    "mlp_clf = MLPClassifier(random_state=1, max_iter=300).fit(X_train, y_train)\n",
    "mlp_clf_score = mlp_clf.score(X_test, y_test)\n",
    "mlp_clf_pred = mlp_clf.predict(X_test)\n",
    "mlp_f1 = f1_score(y_test, mlp_clf_pred)\n",
    "mlp_jaccard = jaccard_score(y_test, mlp_clf_pred)\n",
    "\n",
    "\n",
    "print(\"Training Finished In: {0}\".format(abs(start - time.time())))\n",
    "\n",
    "print(\"==== KNN Classifier Training ====\")\n",
    "start = time.time()\n",
    "knn_clf = KNeighborsClassifier(n_neighbors=2).fit(X_train, y_train)\n",
    "knn_clf_score = knn_clf.score(X_test, y_test)\n",
    "knn_clf_pred = knn_clf.predict(X_test)\n",
    "knn_f1 = f1_score(y_test, knn_clf_pred)\n",
    "knn_jaccard = jaccard_score(y_test, knn_clf_pred)\n",
    "\n",
    "\n",
    "print(\"Training Finished In: {0}\".format(abs(start - time.time())))\n",
    "\n",
    "print(\"==== Decision Tree Classifier Training ====\")\n",
    "start = time.time()\n",
    "tree_clf = DecisionTreeClassifier(random_state=0).fit(X_train, y_train)\n",
    "tree_clf_score = tree_clf.score(X_test, y_test)\n",
    "tree_clf_pred = tree_clf.predict(X_test)\n",
    "tree_f1 = f1_score(y_test, tree_clf_pred)\n",
    "tree_jaccard = jaccard_score(y_test, tree_clf_pred)\n",
    "\n",
    "\n",
    "print(\"Training Finished In: {0}\".format(abs(start - time.time())))\n",
    "\n",
    "print(\"Random Forest Classifier Training ====\")\n",
    "start = time.time()\n",
    "forest_clf = RandomForestClassifier(max_depth=2, random_state=0).fit(X_train, y_train)\n",
    "forest_clf_score = forest_clf.score(X_test, y_test)\n",
    "forest_clf_pred = forest_clf.predict(X_test)\n",
    "forest_f1 = f1_score(y_test, forest_clf_pred)\n",
    "forest_jaccard = jaccard_score(y_test, forest_clf_pred)\n",
    "\n",
    "\n",
    "print(\"Training Finished In: {0}\".format(abs(start - time.time())))\n",
    "\n",
    "\n",
    "print(\"==== Gaussian Naive Bays Training ====\")\n",
    "start = time.time()\n",
    "nb_clf = GaussianNB().fit(X_train, y_train)\n",
    "nb_clf_score = nb_clf.score(X_test, y_test)\n",
    "nb_clf_pred = nb_clf.predict(X_test)\n",
    "nb_f1 = f1_score(y_test, nb_clf_pred)\n",
    "nb_jaccard = jaccard_score(y_test, nb_clf_pred)\n",
    "\n",
    "\n",
    "print(\"Training Finished In: {0}\".format(abs(start - time.time())))\n",
    "\n",
    "\n",
    "print(\"==== Quadratic Discriminant Analysis Training ====\")\n",
    "start = time.time()\n",
    "qda_clf = QuadraticDiscriminantAnalysis().fit(X_train, y_train)\n",
    "qda_clf_score = qda_clf.score(X_test, y_test)\n",
    "qda_clf_pred = qda_clf.predict(X_test)\n",
    "qda_f1 = f1_score(y_test, qda_clf_pred)\n",
    "qda_jaccard =jaccard_score(y_test, qda_clf_pred)\n",
    "\n",
    "\n",
    "print(\"Training Finished In: {0}\".format(abs(start - time.time())))\n",
    "\n",
    "\n",
    "print(\"==== SVC Training ====\")\n",
    "start = time.time()\n",
    "svc_clf = SVC(gamma='auto').fit(X_train, y_train)\n",
    "svc_clf_score = svc_clf.score(X_test, y_test)\n",
    "svc_clf_pred = svc_clf.predict(X_test)\n",
    "svc_f1 = f1_score(y_test, svc_clf_pred)\n",
    "svc_jaccard = jaccard_score(y_test, svc_clf_pred)\n",
    "\n",
    "\n",
    "print(\"Training Finished In: {0}\".format(abs(start - time.time())))\n",
    "\n",
    "\n",
    "print(\"==== AdaBoost Classifier Training ====\")\n",
    "start = time.time()\n",
    "adaBoost_clf = AdaBoostClassifier(n_estimators=100, random_state=0).fit(X_train, y_train)\n",
    "adaBoost_clf_score = adaBoost_clf.score(X_test, y_test)\n",
    "adaBoost_clf_pred = adaBoost_clf.predict(X_test)\n",
    "adaBoost_f1 = f1_score(y_test, adaBoost_clf_pred)\n",
    "adaBoost_jaccard = jaccard_score(y_test, adaBoost_clf_pred)\n",
    "\n",
    "\n",
    "print(\"Training Finished In: {0}\".format(abs(start - time.time())))\n",
    "\n",
    "\n",
    "\n"
   ]
  },
  {
   "cell_type": "markdown",
   "metadata": {},
   "source": [
    "### Evaluation:\n",
    "\n",
    "To evaluate the model performance, 20% of the dataset has been reserved for testing. This step will enable the head-to-head comparison of all of the models. The model with the best accuracy will be selected for deployment. Once a model is chosen, it will be retrained on the training AND test data. Finally, the retrained model will be evaluated with a validation set which has been hidden for the entire training process."
   ]
  },
  {
   "cell_type": "code",
   "execution_count": 43,
   "metadata": {},
   "outputs": [
    {
     "name": "stdout",
     "output_type": "stream",
     "text": [
      "MODEL EVALUATION\n",
      "MLP Classifier Score:\n",
      "Score: 0.5023290022064232 ==== F1: 0.668463171647885 ==== Jaccard: 0.5020237949221146\n",
      "Confusion Matrix:\n",
      "[[8186    6]\n",
      " [8114   10]]\n",
      "\n",
      "KNN Classifier Score:\n",
      "Score: 0.5200416768815886 ==== F1: 0.6111911027257831 ==== Jaccard: 0.4400829400829401\n",
      "Confusion Matrix:\n",
      "[[6155 2037]\n",
      " [5794 2330]]\n",
      "\n",
      "Decision Tree Classifier Score:\n",
      "Score: 0.5359769551360628 ==== F1: 0.5565512797985123 ==== Jaccard: 0.3855705242655413\n",
      "Confusion Matrix:\n",
      "[[4751 3441]\n",
      " [4130 3994]]\n",
      "\n",
      "Random Forest Classifier Score:\n",
      "Score: 0.5639249816131405 ==== F1: 0.3370912140128576 ==== Jaccard: 0.20271178843567908\n",
      "Confusion Matrix:\n",
      "[[1809 6383]\n",
      " [ 732 7392]]\n",
      "\n",
      "Gaussian Naive Bays Score:\n",
      "Score: 0.5414930129933807 ==== F1: 0.4040468413924958 ==== Jaccard: 0.2531696116601777\n",
      "Confusion Matrix:\n",
      "[[2536 5656]\n",
      " [1825 6299]]\n",
      "\n",
      "Quadratic Discriminant Analysis Score:\n",
      "Score: 0.5562025006128953 ==== F1: 0.331456005908965 ==== Jaccard: 0.1986498450641877\n",
      "Confusion Matrix:\n",
      "[[1795 6397]\n",
      " [ 844 7280]]\n",
      "\n",
      "SVC Score:\n",
      "Score: 0.5500735474380976 ==== F1: 0.5029453585212269 ==== Jaccard: 0.3359565807327001\n",
      "Confusion Matrix:\n",
      "[[3714 4478]\n",
      " [2863 5261]]\n",
      "\n",
      "AdaBoost Classifier Score:\n",
      "Score: 0.5720151998038735 ==== F1: 0.44336388999601434 ==== Jaccard: 0.2848217943465793\n",
      "Confusion Matrix:\n",
      "[[2781 5411]\n",
      " [1572 6552]]\n",
      "\n"
     ]
    },
    {
     "data": {
      "image/png": "[encoded data removed]",
      "text/plain": [
       "<Figure size 432x288 with 1 Axes>"
      ]
     },
     "metadata": {
      "needs_background": "light"
     },
     "output_type": "display_data"
    }
   ],
   "source": [
    "print(\"MODEL EVALUATION\")\n",
    "\n",
    "print(\"MLP Classifier Score:\")\n",
    "print(\"Score: {0} ==== F1: {1} ==== Jaccard: {2}\".format(mlp_clf_score, mlp_f1, mlp_jaccard))\n",
    "print(\"Confusion Matrix:\")\n",
    "print(confusion_matrix(y_test, mlp_clf_pred))\n",
    "print()\n",
    "\n",
    "print(\"KNN Classifier Score:\")\n",
    "print(\"Score: {0} ==== F1: {1} ==== Jaccard: {2}\".format(knn_clf_score, knn_f1, knn_jaccard))\n",
    "print(\"Confusion Matrix:\")\n",
    "print(confusion_matrix(y_test, knn_clf_pred))\n",
    "\n",
    "print()\n",
    "\n",
    "print(\"Decision Tree Classifier Score:\")\n",
    "print(\"Score: {0} ==== F1: {1} ==== Jaccard: {2}\".format(tree_clf_score, tree_f1, tree_jaccard))\n",
    "print(\"Confusion Matrix:\")\n",
    "print(confusion_matrix(y_test, tree_clf_pred))\n",
    "\n",
    "print()\n",
    "\n",
    "print(\"Random Forest Classifier Score:\")\n",
    "print(\"Score: {0} ==== F1: {1} ==== Jaccard: {2}\".format(forest_clf_score, forest_f1, forest_jaccard))\n",
    "print(\"Confusion Matrix:\")\n",
    "print(confusion_matrix(y_test, forest_clf_pred))\n",
    "\n",
    "print()\n",
    "\n",
    "print(\"Gaussian Naive Bays Score:\")\n",
    "print(\"Score: {0} ==== F1: {1} ==== Jaccard: {2}\".format(nb_clf_score, nb_f1, nb_jaccard))\n",
    "print(\"Confusion Matrix:\")\n",
    "print(confusion_matrix(y_test, nb_clf_pred))\n",
    "\n",
    "print()\n",
    "\n",
    "print(\"Quadratic Discriminant Analysis Score:\")\n",
    "print(\"Score: {0} ==== F1: {1} ==== Jaccard: {2}\".format(qda_clf_score, qda_f1, qda_jaccard))\n",
    "print(\"Confusion Matrix:\")\n",
    "print(confusion_matrix(y_test, qda_clf_pred))\n",
    "\n",
    "print()\n",
    "\n",
    "print(\"SVC Score:\")\n",
    "print(\"Score: {0} ==== F1: {1} ==== Jaccard: {2}\".format(svc_clf_score, svc_f1, svc_jaccard))\n",
    "print(\"Confusion Matrix:\")\n",
    "print(confusion_matrix(y_test, svc_clf_pred))\n",
    "\n",
    "print()\n",
    "\n",
    "print(\"AdaBoost Classifier Score:\")\n",
    "print(\"Score: {0} ==== F1: {1} ==== Jaccard: {2}\".format(adaBoost_clf_score, adaBoost_f1, adaBoost_jaccard))\n",
    "print(\"Confusion Matrix:\")\n",
    "print(confusion_matrix(y_test, adaBoost_clf_pred))\n",
    "print()\n",
    "\n",
    "ax = plt.gca()\n",
    "mlp_disp = plot_roc_curve(mlp_clf, X_test, y_test, ax=ax, alpha=0.8)\n",
    "knn_disp = plot_roc_curve(knn_clf, X_test, y_test, ax=ax, alpha=0.8)\n",
    "tree_disp = plot_roc_curve(tree_clf, X_test, y_test, ax=ax, alpha=0.8)\n",
    "forest_disp = plot_roc_curve(forest_clf, X_test, y_test, ax=ax, alpha=0.8)\n",
    "nb_disp = plot_roc_curve(nb_clf, X_test, y_test, ax=ax, alpha=0.8)\n",
    "qda_disp = plot_roc_curve(qda_clf, X_test, y_test,ax=ax, alpha=0.8)\n",
    "svc_disp = plot_roc_curve(svc_clf, X_test, y_test,ax=ax, alpha=0.8)\n",
    "adaBoost_disp = plot_roc_curve(adaBoost_clf, X_test, y_test,ax=ax, alpha=0.8)\n",
    "ax.plot([0, 1], [0, 1], linestyle='--', lw=2, color='r',label='Chance', alpha=.8)\n",
    "plt.show()"
   ]
  },
  {
   "cell_type": "markdown",
   "metadata": {},
   "source": [
    "### Validation:\n",
    "\n",
    "The Multi-Layer Perceptron had the best overall results among the trained models. Therefore it is the model which is selected for retraining and validation"
   ]
  },
  {
   "cell_type": "code",
   "execution_count": 44,
   "metadata": {},
   "outputs": [
    {
     "name": "stdout",
     "output_type": "stream",
     "text": [
      "Retrained On: 65261  ====  Compared to 48945 Original Samples\n",
      "==== MLP Classifier Training ====\n",
      "Training Finished In: 6.788158893585205\n",
      "MLP Classifier Score:\n",
      "Score: 0.510573092246399 ==== F1: 0.6127358261797371 ==== Jaccard: 0.44168647741574607\n",
      "\n",
      "Confusion Matrix:\n",
      "[[6317 1816]\n",
      " [6169 2013]]\n",
      "\n"
     ]
    },
    {
     "data": {
      "image/png": "[encoded data removed]",
      "text/plain": [
       "<Figure size 432x288 with 1 Axes>"
      ]
     },
     "metadata": {
      "needs_background": "light"
     },
     "output_type": "display_data"
    }
   ],
   "source": [
    "\n",
    "X_retrain = np.concatenate((X_train, X_test), axis=0)\n",
    "y_retrain = np.concatenate((y_train, y_test), axis=0)\n",
    "\n",
    "\n",
    "print(\"Retrained On: {0}  ====  Compared to {1} Original Samples\".format(retrain_X.shape[0], X_train.shape[0]))\n",
    "\n",
    "print(\"==== MLP Classifier Training ====\")\n",
    "start = time.time()\n",
    "mlp_clf = MLPClassifier(random_state=1, max_iter=300).fit(X_retrain, y_retrain)\n",
    "mlp_clf_score = mlp_clf.score(X_val, y_val)\n",
    "mlp_clf_pred = mlp_clf.predict(X_val)\n",
    "mlp_f1 = f1_score(y_val, mlp_clf_pred)\n",
    "mlp_jaccard = jaccard_score(y_val, mlp_clf_pred)\n",
    "matrix = confusion_matrix(y_val, mlp_clf_pred)\n",
    "\n",
    "print(\"Training Finished In: {0}\".format(abs(start - time.time())))\n",
    "print(\"MLP Classifier Score:\")\n",
    "print(\"Score: {0} ==== F1: {1} ==== Jaccard: {2}\".format(mlp_clf_score, mlp_f1, mlp_jaccard))\n",
    "print()\n",
    "print(\"Confusion Matrix:\")\n",
    "print(matrix)\n",
    "print()\n",
    "mlp_disp = plot_roc_curve(mlp_clf, X_val, y_val)"
   ]
  },
  {
   "cell_type": "markdown",
   "metadata": {},
   "source": [
    "## Results and Discussion"
   ]
  },
  {
   "cell_type": "markdown",
   "metadata": {},
   "source": [
    "This case study produced a number of ML models with varying performance. The model accuracies range from 50-57%, the F1 scores range from 30-70% and the jaccard indexes range from 0.2-0.5. The model which had the best balance of the three scores was the Multi-layer perceptron. The MLP classifier had a poorer accuracy score compared to the other model, but it had better F1 and jaccard scores. Another issue with the MLP is that it is very biased towards the \"1\" class. This is evident through the MLP confusion matrix.\n",
    "\n",
    "Overall, the models do not perform very well. To inprove the model results, more feature engineering should be conducted."
   ]
  },
  {
   "cell_type": "markdown",
   "metadata": {},
   "source": [
    "## Conclusion"
   ]
  },
  {
   "cell_type": "markdown",
   "metadata": {},
   "source": [
    "The purpose of this case study was to predict the risk of a vehicle collision based on road and weather conditions. The goal was to create a model which would help inform drivers about the current driving conditions, so that they can take the proper precautions to avoid a collision. For practical purposes, the models yielded from this investigation would not be satifactory. The models accuracies are only slightly better than a random guess, which is not sufficient for the application. To improve the model performance, another iteration of this investigation should be conducted and more feature engineering should be conducted. Overall, the case study provided a great experience to put together all of the skills acquired in this certificate program."
   ]
  },
  {
   "cell_type": "code",
   "execution_count": null,
   "metadata": {},
   "outputs": [],
   "source": []
  }
 ],
 "metadata": {
  "kernelspec": {
   "display_name": "Python 3",
   "language": "python",
   "name": "python3"
  },
  "language_info": {
   "codemirror_mode": {
    "name": "ipython",
    "version": 3
   },
   "file_extension": ".py",
   "mimetype": "text/x-python",
   "name": "python",
   "nbconvert_exporter": "python",
   "pygments_lexer": "ipython3",
   "version": "3.7.6"
  }
 },
 "nbformat": 4,
 "nbformat_minor": 4
}
